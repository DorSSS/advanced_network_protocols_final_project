{
 "cells": [
  {
   "cell_type": "code",
   "execution_count": 1,
   "metadata": {},
   "outputs": [],
   "source": [
    "import pandas as pd\n",
    "import matplotlib.pyplot as plt"
   ]
  },
  {
   "cell_type": "code",
   "execution_count": 2,
   "metadata": {},
   "outputs": [],
   "source": [
    "df = pd.read_csv(\"results.csv\")"
   ]
  },
  {
   "cell_type": "code",
   "execution_count": 3,
   "metadata": {},
   "outputs": [
    {
     "data": {
      "text/html": [
       "<div>\n",
       "<style scoped>\n",
       "    .dataframe tbody tr th:only-of-type {\n",
       "        vertical-align: middle;\n",
       "    }\n",
       "\n",
       "    .dataframe tbody tr th {\n",
       "        vertical-align: top;\n",
       "    }\n",
       "\n",
       "    .dataframe thead th {\n",
       "        text-align: right;\n",
       "    }\n",
       "</style>\n",
       "<table border=\"1\" class=\"dataframe\">\n",
       "  <thead>\n",
       "    <tr style=\"text-align: right;\">\n",
       "      <th></th>\n",
       "      <th>url</th>\n",
       "      <th>ip</th>\n",
       "      <th>doh1</th>\n",
       "      <th>doh2</th>\n",
       "      <th>doh3</th>\n",
       "      <th>doh4</th>\n",
       "      <th>doh5</th>\n",
       "      <th>dns1</th>\n",
       "      <th>dns2</th>\n",
       "      <th>dns3</th>\n",
       "      <th>dns4</th>\n",
       "      <th>dns5</th>\n",
       "      <th>doh packets</th>\n",
       "      <th>dns packets</th>\n",
       "    </tr>\n",
       "  </thead>\n",
       "  <tbody>\n",
       "    <tr>\n",
       "      <th>0</th>\n",
       "      <td>facebook.com</td>\n",
       "      <td>157.240.1.35</td>\n",
       "      <td>1197.999954</td>\n",
       "      <td>79.999924</td>\n",
       "      <td>71.000099</td>\n",
       "      <td>75.000048</td>\n",
       "      <td>73.999882</td>\n",
       "      <td>337.000132</td>\n",
       "      <td>16.999960</td>\n",
       "      <td>13.000011</td>\n",
       "      <td>12.000084</td>\n",
       "      <td>11.999846</td>\n",
       "      <td>15</td>\n",
       "      <td>2</td>\n",
       "    </tr>\n",
       "    <tr>\n",
       "      <th>1</th>\n",
       "      <td>twitter.com</td>\n",
       "      <td>104.244.42.65</td>\n",
       "      <td>75.999975</td>\n",
       "      <td>68.000078</td>\n",
       "      <td>71.000099</td>\n",
       "      <td>75.999975</td>\n",
       "      <td>78.999996</td>\n",
       "      <td>11.999846</td>\n",
       "      <td>11.999846</td>\n",
       "      <td>12.000084</td>\n",
       "      <td>13.000011</td>\n",
       "      <td>23.999929</td>\n",
       "      <td>15</td>\n",
       "      <td>2</td>\n",
       "    </tr>\n",
       "    <tr>\n",
       "      <th>2</th>\n",
       "      <td>google.com</td>\n",
       "      <td>173.194.76.100</td>\n",
       "      <td>69.999933</td>\n",
       "      <td>74.000120</td>\n",
       "      <td>87.000132</td>\n",
       "      <td>72.999954</td>\n",
       "      <td>76.999903</td>\n",
       "      <td>16.000032</td>\n",
       "      <td>13.000011</td>\n",
       "      <td>13.000011</td>\n",
       "      <td>13.000011</td>\n",
       "      <td>13.000011</td>\n",
       "      <td>15</td>\n",
       "      <td>2</td>\n",
       "    </tr>\n",
       "    <tr>\n",
       "      <th>3</th>\n",
       "      <td>youtube.com</td>\n",
       "      <td>173.194.76.93</td>\n",
       "      <td>77.000141</td>\n",
       "      <td>75.999975</td>\n",
       "      <td>81.000090</td>\n",
       "      <td>74.999809</td>\n",
       "      <td>77.999830</td>\n",
       "      <td>22.000074</td>\n",
       "      <td>13.000011</td>\n",
       "      <td>13.999939</td>\n",
       "      <td>16.000032</td>\n",
       "      <td>13.000011</td>\n",
       "      <td>15</td>\n",
       "      <td>2</td>\n",
       "    </tr>\n",
       "    <tr>\n",
       "      <th>4</th>\n",
       "      <td>instagram.com</td>\n",
       "      <td>54.210.70.115</td>\n",
       "      <td>75.000048</td>\n",
       "      <td>73.999882</td>\n",
       "      <td>72.999954</td>\n",
       "      <td>73.999882</td>\n",
       "      <td>83.999872</td>\n",
       "      <td>15.000105</td>\n",
       "      <td>13.999939</td>\n",
       "      <td>11.999846</td>\n",
       "      <td>13.000011</td>\n",
       "      <td>15.000105</td>\n",
       "      <td>16</td>\n",
       "      <td>2</td>\n",
       "    </tr>\n",
       "  </tbody>\n",
       "</table>\n",
       "</div>"
      ],
      "text/plain": [
       "             url              ip         doh1       doh2       doh3  \\\n",
       "0   facebook.com    157.240.1.35  1197.999954  79.999924  71.000099   \n",
       "1    twitter.com   104.244.42.65    75.999975  68.000078  71.000099   \n",
       "2     google.com  173.194.76.100    69.999933  74.000120  87.000132   \n",
       "3    youtube.com   173.194.76.93    77.000141  75.999975  81.000090   \n",
       "4  instagram.com   54.210.70.115    75.000048  73.999882  72.999954   \n",
       "\n",
       "        doh4       doh5        dns1       dns2       dns3       dns4  \\\n",
       "0  75.000048  73.999882  337.000132  16.999960  13.000011  12.000084   \n",
       "1  75.999975  78.999996   11.999846  11.999846  12.000084  13.000011   \n",
       "2  72.999954  76.999903   16.000032  13.000011  13.000011  13.000011   \n",
       "3  74.999809  77.999830   22.000074  13.000011  13.999939  16.000032   \n",
       "4  73.999882  83.999872   15.000105  13.999939  11.999846  13.000011   \n",
       "\n",
       "        dns5  doh packets  dns packets  \n",
       "0  11.999846           15            2  \n",
       "1  23.999929           15            2  \n",
       "2  13.000011           15            2  \n",
       "3  13.000011           15            2  \n",
       "4  15.000105           16            2  "
      ]
     },
     "execution_count": 3,
     "metadata": {},
     "output_type": "execute_result"
    }
   ],
   "source": [
    "df.head()"
   ]
  },
  {
   "cell_type": "code",
   "execution_count": 16,
   "metadata": {},
   "outputs": [
    {
     "data": {
      "text/plain": [
       "Index(['dns1', 'dns2', 'dns3', 'dns4', 'dns5'], dtype='object')"
      ]
     },
     "execution_count": 16,
     "metadata": {},
     "output_type": "execute_result"
    }
   ],
   "source": [
    "df.columns[7:12]"
   ]
  },
  {
   "cell_type": "code",
   "execution_count": 12,
   "metadata": {},
   "outputs": [],
   "source": [
    "df[\"doh_mean\"] = df[df.columns[2:7]].mean(axis=1)"
   ]
  },
  {
   "cell_type": "code",
   "execution_count": 17,
   "metadata": {},
   "outputs": [],
   "source": [
    "df[\"dns_mean\"] = df[df.columns[7:12]].mean(axis=1)"
   ]
  },
  {
   "cell_type": "code",
   "execution_count": 47,
   "metadata": {},
   "outputs": [
    {
     "data": {
      "image/png": "[encoded data removed]",
      "text/plain": [
       "<Figure size 1080x720 with 1 Axes>"
      ]
     },
     "metadata": {
      "needs_background": "light"
     },
     "output_type": "display_data"
    }
   ],
   "source": [
    "_ = df[[\"dns_mean\", \"doh_mean\"]].plot(kind = \"line\", figsize = (15,10), title = \"Line Plot\", legend  = True)\n",
    "plt.xlabel('Domain Number')\n",
    "plt.ylabel('Time in Seconds')\n",
    "plt.show()"
   ]
  },
  {
   "cell_type": "code",
   "execution_count": 20,
   "metadata": {},
   "outputs": [
    {
     "data": {
      "text/plain": [
       "13.599967953999998"
      ]
     },
     "execution_count": 20,
     "metadata": {},
     "output_type": "execute_result"
    }
   ],
   "source": [
    "df.dns_mean.median()"
   ]
  },
  {
   "cell_type": "code",
   "execution_count": 21,
   "metadata": {},
   "outputs": [
    {
     "data": {
      "text/plain": [
       "83.600044258"
      ]
     },
     "execution_count": 21,
     "metadata": {},
     "output_type": "execute_result"
    }
   ],
   "source": [
    "df.doh_mean.median()"
   ]
  },
  {
   "cell_type": "code",
   "execution_count": 31,
   "metadata": {},
   "outputs": [
    {
     "data": {
      "text/html": [
       "<div>\n",
       "<style scoped>\n",
       "    .dataframe tbody tr th:only-of-type {\n",
       "        vertical-align: middle;\n",
       "    }\n",
       "\n",
       "    .dataframe tbody tr th {\n",
       "        vertical-align: top;\n",
       "    }\n",
       "\n",
       "    .dataframe thead th {\n",
       "        text-align: right;\n",
       "    }\n",
       "</style>\n",
       "<table border=\"1\" class=\"dataframe\">\n",
       "  <thead>\n",
       "    <tr style=\"text-align: right;\">\n",
       "      <th></th>\n",
       "      <th>dns packets</th>\n",
       "      <th>doh packets</th>\n",
       "    </tr>\n",
       "  </thead>\n",
       "  <tbody>\n",
       "    <tr>\n",
       "      <th>count</th>\n",
       "      <td>485.0</td>\n",
       "      <td>485.000000</td>\n",
       "    </tr>\n",
       "    <tr>\n",
       "      <th>mean</th>\n",
       "      <td>2.0</td>\n",
       "      <td>15.490722</td>\n",
       "    </tr>\n",
       "    <tr>\n",
       "      <th>std</th>\n",
       "      <td>0.0</td>\n",
       "      <td>0.654306</td>\n",
       "    </tr>\n",
       "    <tr>\n",
       "      <th>min</th>\n",
       "      <td>2.0</td>\n",
       "      <td>15.000000</td>\n",
       "    </tr>\n",
       "    <tr>\n",
       "      <th>25%</th>\n",
       "      <td>2.0</td>\n",
       "      <td>15.000000</td>\n",
       "    </tr>\n",
       "    <tr>\n",
       "      <th>50%</th>\n",
       "      <td>2.0</td>\n",
       "      <td>15.000000</td>\n",
       "    </tr>\n",
       "    <tr>\n",
       "      <th>75%</th>\n",
       "      <td>2.0</td>\n",
       "      <td>16.000000</td>\n",
       "    </tr>\n",
       "    <tr>\n",
       "      <th>max</th>\n",
       "      <td>2.0</td>\n",
       "      <td>20.000000</td>\n",
       "    </tr>\n",
       "  </tbody>\n",
       "</table>\n",
       "</div>"
      ],
      "text/plain": [
       "       dns packets  doh packets\n",
       "count        485.0   485.000000\n",
       "mean           2.0    15.490722\n",
       "std            0.0     0.654306\n",
       "min            2.0    15.000000\n",
       "25%            2.0    15.000000\n",
       "50%            2.0    15.000000\n",
       "75%            2.0    16.000000\n",
       "max            2.0    20.000000"
      ]
     },
     "execution_count": 31,
     "metadata": {},
     "output_type": "execute_result"
    }
   ],
   "source": [
    "df[[\"dns packets\", \"doh packets\"]].describe()"
   ]
  },
  {
   "cell_type": "code",
   "execution_count": 49,
   "metadata": {},
   "outputs": [
    {
     "data": {
      "text/html": [
       "<div>\n",
       "<style scoped>\n",
       "    .dataframe tbody tr th:only-of-type {\n",
       "        vertical-align: middle;\n",
       "    }\n",
       "\n",
       "    .dataframe tbody tr th {\n",
       "        vertical-align: top;\n",
       "    }\n",
       "\n",
       "    .dataframe thead th {\n",
       "        text-align: right;\n",
       "    }\n",
       "</style>\n",
       "<table border=\"1\" class=\"dataframe\">\n",
       "  <thead>\n",
       "    <tr style=\"text-align: right;\">\n",
       "      <th></th>\n",
       "      <th>dns_mean</th>\n",
       "      <th>doh_mean</th>\n",
       "    </tr>\n",
       "  </thead>\n",
       "  <tbody>\n",
       "    <tr>\n",
       "      <th>count</th>\n",
       "      <td>485.000000</td>\n",
       "      <td>485.000000</td>\n",
       "    </tr>\n",
       "    <tr>\n",
       "      <th>mean</th>\n",
       "      <td>14.825977</td>\n",
       "      <td>101.398351</td>\n",
       "    </tr>\n",
       "    <tr>\n",
       "      <th>std</th>\n",
       "      <td>13.068133</td>\n",
       "      <td>69.077431</td>\n",
       "    </tr>\n",
       "    <tr>\n",
       "      <th>min</th>\n",
       "      <td>11.800003</td>\n",
       "      <td>70.199966</td>\n",
       "    </tr>\n",
       "    <tr>\n",
       "      <th>25%</th>\n",
       "      <td>12.800074</td>\n",
       "      <td>76.599979</td>\n",
       "    </tr>\n",
       "    <tr>\n",
       "      <th>50%</th>\n",
       "      <td>13.599968</td>\n",
       "      <td>83.600044</td>\n",
       "    </tr>\n",
       "    <tr>\n",
       "      <th>75%</th>\n",
       "      <td>14.400005</td>\n",
       "      <td>113.199997</td>\n",
       "    </tr>\n",
       "    <tr>\n",
       "      <th>max</th>\n",
       "      <td>288.999987</td>\n",
       "      <td>1388.799953</td>\n",
       "    </tr>\n",
       "  </tbody>\n",
       "</table>\n",
       "</div>"
      ],
      "text/plain": [
       "         dns_mean     doh_mean\n",
       "count  485.000000   485.000000\n",
       "mean    14.825977   101.398351\n",
       "std     13.068133    69.077431\n",
       "min     11.800003    70.199966\n",
       "25%     12.800074    76.599979\n",
       "50%     13.599968    83.600044\n",
       "75%     14.400005   113.199997\n",
       "max    288.999987  1388.799953"
      ]
     },
     "execution_count": 49,
     "metadata": {},
     "output_type": "execute_result"
    }
   ],
   "source": [
    "df[[\"dns_mean\", \"doh_mean\"]].describe()"
   ]
  },
  {
   "cell_type": "code",
   "execution_count": 52,
   "metadata": {},
   "outputs": [
    {
     "data": {
      "image/png": "[encoded data removed]",
      "text/plain": [
       "<Figure size 864x432 with 1 Axes>"
      ]
     },
     "metadata": {
      "needs_background": "light"
     },
     "output_type": "display_data"
    }
   ],
   "source": [
    "_ = df[[\"dns_mean\", \"doh_mean\"]].plot(kind = \"hist\", figsize = (12,6), title = \"Histogram Plot\", legend  = True, bins = 20)\n",
    "plt.xlabel('Time')\n",
    "plt.ylabel('Frequency')\n",
    "plt.show()"
   ]
  },
  {
   "cell_type": "code",
   "execution_count": 29,
   "metadata": {},
   "outputs": [
    {
     "data": {
      "image/png": "[encoded data removed]",
      "text/plain": [
       "<Figure size 432x288 with 1 Axes>"
      ]
     },
     "metadata": {
      "needs_background": "light"
     },
     "output_type": "display_data"
    }
   ],
   "source": [
    "plt.hist(df.doh_mean, density = True, cumulative=True, label='CDF',histtype='step', bins=200)\n",
    "plt.xlabel('RTT')\n",
    "plt.ylabel('Probability')\n",
    "plt.title(\"DOH CDF\")\n",
    "plt.show()"
   ]
  },
  {
   "cell_type": "code",
   "execution_count": 26,
   "metadata": {},
   "outputs": [
    {
     "data": {
      "image/png": "[encoded data removed]",
      "text/plain": [
       "<Figure size 432x288 with 1 Axes>"
      ]
     },
     "metadata": {
      "needs_background": "light"
     },
     "output_type": "display_data"
    }
   ],
   "source": [
    "plt.hist(df.dns_mean, density = True,cumulative=True, label='CDF',histtype='step', bins=200)\n",
    "plt.xlabel('RTT')\n",
    "plt.ylabel('Probability')\n",
    "plt.title(\"DNS CDF\")\n",
    "plt.show()"
   ]
  },
  {
   "cell_type": "code",
   "execution_count": null,
   "metadata": {},
   "outputs": [],
   "source": []
  }
 ],
 "metadata": {
  "kernelspec": {
   "display_name": "Python 3",
   "language": "python",
   "name": "python3"
  },
  "language_info": {
   "codemirror_mode": {
    "name": "ipython",
    "version": 3
   },
   "file_extension": ".py",
   "mimetype": "text/x-python",
   "name": "python",
   "nbconvert_exporter": "python",
   "pygments_lexer": "ipython3",
   "version": "3.7.0"
  }
 },
 "nbformat": 4,
 "nbformat_minor": 2
}
